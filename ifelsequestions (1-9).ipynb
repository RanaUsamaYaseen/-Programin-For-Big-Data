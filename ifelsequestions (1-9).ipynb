{
 "cells": [
  {
   "cell_type": "markdown",
   "id": "719568b3",
   "metadata": {},
   "source": [
    "# Question 1 – Minimum/Maximum\n",
    "Write a program that asks the user to enter two numbers. The program should use the conditional operator to determine which\n",
    "number is the smaller and which is the larger."
   ]
  },
  {
   "cell_type": "code",
   "execution_count": 1,
   "id": "1d0e690a",
   "metadata": {},
   "outputs": [
    {
     "name": "stdout",
     "output_type": "stream",
     "text": [
      "please enter number one :\n",
      "4\n",
      "please enter number two :\n",
      "5\n",
      "num2 is greater\n",
      "\n",
      "num1 is smaller\n",
      "\n"
     ]
    }
   ],
   "source": [
    "num1=int(input(\"please enter number one :\\n\"))\n",
    "num2=int(input(\"please enter number two :\\n\"))\n",
    "if num1>num2:\n",
    "    print(\"num1 is greater\\n\")\n",
    "    print(\"num2 is smaller\\n\")\n",
    "elif num1==num2:\n",
    "    print(\"Both are equals\\n\")\n",
    "else: \n",
    "    print(\"num2 is greater\\n\")\n",
    "    print(\"num1 is smaller\\n\")"
   ]
  },
  {
   "cell_type": "markdown",
   "id": "47f575d9",
   "metadata": {},
   "source": [
    "# Question 2 – Roman Numeral Converter\n",
    "Write a program that asks the user to enter a number within the range of 1 through 10. Use a conditional statement to display\n",
    "the Roman numeral version of that number.\n",
    "Input Validation: Do not accept a number less than 1 or greater than 10.\n"
   ]
  },
  {
   "cell_type": "code",
   "execution_count": 2,
   "id": "513b1da1",
   "metadata": {},
   "outputs": [
    {
     "name": "stdout",
     "output_type": "stream",
     "text": [
      "Enter number\n",
      "5\n",
      "V\n",
      "\n"
     ]
    }
   ],
   "source": [
    "num=int(input(\"Enter number\\n\"))\n",
    "while num not in (1,2,3,4,5,6,7,8,9,10):\n",
    "    print(\"Enter valid number\")\n",
    "    num=int(input(\"Enter number\\n\"))\n",
    "if num==1:\n",
    "    print(\"I\\n\")\n",
    "elif num==2:\n",
    "    print(\"II\\n\")\n",
    "elif num==3:\n",
    "    print(\"III\\n\")\n",
    "elif num==4:\n",
    "    print(\"IV\\n\")\n",
    "elif num==5:\n",
    "    print(\"V\\n\")\n",
    "elif num==6:\n",
    "    print(\"VI\\n\")\n",
    "elif num==7:\n",
    "    print(\"VII\\n\")\n",
    "elif num==8:\n",
    "    print(\"VIII\\n\")\n",
    "elif num==9:\n",
    "    print(\"IX\\n\")\n",
    "elif num==10:\n",
    "    print(\"X\\n\")"
   ]
  },
  {
   "cell_type": "markdown",
   "id": "ddea79da",
   "metadata": {},
   "source": [
    "# Question 3 – Magic Dates\n",
    "The date June 10, 1960, is special because when we write it in the following format, the month times the day equals the year.\n",
    "6/10/60\n",
    "Write a program that asks the user to enter a month (in numeric form), a day, and a two-digit year. The program should then\n",
    "determine whether the month times the day is equal to the year. If so, it should display a message saying the date is magic.\n",
    "Otherwise, it should display a message saying the date is not magic."
   ]
  },
  {
   "cell_type": "code",
   "execution_count": 3,
   "id": "33b7b89e",
   "metadata": {},
   "outputs": [
    {
     "name": "stdout",
     "output_type": "stream",
     "text": [
      "Enter month :\n",
      "12\n",
      "Enter day :\n",
      "2\n",
      "Enter last two  digit year :\n",
      "24\n",
      "The date is magic\n"
     ]
    }
   ],
   "source": [
    "month=int(input(\"Enter month :\\n\"))\n",
    "day=int(input(\"Enter day :\\n\"))\n",
    "year=int(input(\"Enter last two  digit year :\\n\"))\n",
    "y=month*day\n",
    "if y==year:\n",
    "    print(\"The date is magic\")\n",
    "else:\n",
    "    print(\"The date is not magic\")"
   ]
  },
  {
   "cell_type": "markdown",
   "id": "3c18e53b",
   "metadata": {},
   "source": [
    "#     Question 4 – Areas of Rectangles\n",
    "The area of a rectangle is the rectangle’s length times its width. Write a program that asks for the length and width of two\n",
    "rectangles. The program should tell the user which rectangle has the greater area, or if the areas are the same."
   ]
  },
  {
   "cell_type": "code",
   "execution_count": 4,
   "id": "745e2500",
   "metadata": {},
   "outputs": [
    {
     "name": "stdout",
     "output_type": "stream",
     "text": [
      "Enter lenght of first rectangle :\n",
      "2\n",
      "Enter lenght of second rectangle :\n",
      "3\n",
      "Enter width of first rectangle :\n",
      "3\n",
      "Enter width of second rectangle :\n",
      "2\n",
      "Both are equals\n",
      "\n"
     ]
    }
   ],
   "source": [
    "len1=int(input(\"Enter lenght of first rectangle :\\n\"))\n",
    "len2=int(input(\"Enter lenght of second rectangle :\\n\"))\n",
    "wid1=int(input(\"Enter width of first rectangle :\\n\"))\n",
    "wid2=int(input(\"Enter width of second rectangle :\\n\"))\n",
    "area1=len1*wid1\n",
    "area2=len2*wid2\n",
    "if area1>area2:\n",
    "    print(\"area1 is greater\\n\")\n",
    "    print(\"area2 is smaller\\n\")\n",
    "elif area1==area2:\n",
    "    print(\"Both are equals\\n\")\n",
    "else: \n",
    "    print(\"area2 is greater\\n\")\n",
    "    print(\"area1 is smaller\\n\")"
   ]
  },
  {
   "cell_type": "markdown",
   "id": "1ca0b257",
   "metadata": {},
   "source": [
    "# Question 5 – Book Club Points\n",
    "An online book club awards points to its customers based on the number of books purchased each month. Points are awarded as\n",
    "follows:\n",
    "Books Purchased Points Earned\n",
    "0 0\n",
    "1 5\n",
    "2 15\n",
    "3 30\n",
    "4 or more 60\n",
    "Write a program that asks the user to enter the number of books purchased this month and then displays the number of\n",
    "points awarded.\n",
    " "
   ]
  },
  {
   "cell_type": "code",
   "execution_count": 5,
   "id": "a000cdb7",
   "metadata": {},
   "outputs": [
    {
     "name": "stdout",
     "output_type": "stream",
     "text": [
      "Enter number of books purchase in month :\n",
      "5\n",
      "points earned : 60\n"
     ]
    }
   ],
   "source": [
    "books=int(input(\"Enter number of books purchase in month :\\n\"))\n",
    "if books==0:\n",
    "    print(\"points earned : 0\")\n",
    "elif books==1:\n",
    "    print(\"points earned : 5\")\n",
    "elif books==2:\n",
    "    print(\"points earned : 15\")\n",
    "elif books==3:\n",
    "    print(\"points earned : 30\")\n",
    "else:\n",
    "    print(\"points earned : 60\")"
   ]
  },
  {
   "cell_type": "markdown",
   "id": "85446707",
   "metadata": {},
   "source": [
    "Q#6:-Scientists measure an object’s mass in kilograms and its weight in newtons. If you know an object’s mass, you can calculate its\n",
    "weight in newtons with the following formula:\n",
    "weight = mass * 9.8\n",
    "Write a program that asks the user to enter an object’s mass, and then calculates and displays its weight. If the object weighs\n",
    "more than 1000 newtons, display a message indicating that it is too heavy. If the object weighs less than 10 newtons, display a\n",
    "message indicating that the object is too light.\n",
    " "
   ]
  },
  {
   "cell_type": "code",
   "execution_count": 7,
   "id": "63432e4b",
   "metadata": {},
   "outputs": [
    {
     "name": "stdout",
     "output_type": "stream",
     "text": [
      "Enter mass of object :\n",
      "1100\n",
      "wight of object is too heavy \n",
      "\n"
     ]
    }
   ],
   "source": [
    "mass=int(input(\"Enter mass of object :\\n\"))\n",
    "wight=mass*9.8\n",
    "if wight>1000:\n",
    "    print(\"wight of object is too heavy \\n\")\n",
    "elif wight<10:\n",
    "     print(\"wight of object is too light \\n\")"
   ]
  },
  {
   "cell_type": "markdown",
   "id": "a9b8ae06",
   "metadata": {},
   "source": [
    "Q#7:-Write a program that asks the user to enter a number of seconds.\n",
    "1. There are 86400 seconds in a day. If the number of seconds entered by the user is greater than or equal to 86400, the\n",
    "program should display the number of days in that many seconds.\n",
    "2. There are 3600 seconds in an hour. If the number of seconds entered by the user is less than 86400, but is greater than or\n",
    "equal to 3600, the program should display the number of hours in that many seconds.\n",
    "3. There are 60 seconds in a minute. If the number of seconds entered by the user is less than 3600, but is greater than or\n",
    "equal to 60, the program should display the number of minutes in that many seconds.\n",
    " "
   ]
  },
  {
   "cell_type": "code",
   "execution_count": 8,
   "id": "f8c75e38",
   "metadata": {},
   "outputs": [
    {
     "name": "stdout",
     "output_type": "stream",
     "text": [
      "Enter seconds :\n",
      "34000\n",
      "hours are : \n",
      "\n",
      "9.444444444444445\n"
     ]
    }
   ],
   "source": [
    "seconds=int(input(\"Enter seconds :\\n\"))\n",
    "if seconds>=86400:\n",
    "    day=seconds/86400\n",
    "    print(\"days are : \\n\")\n",
    "    print(day)\n",
    "elif seconds<86400 and seconds>=3600:\n",
    "    hours=seconds/3600\n",
    "    print(\"hours are : \\n\")\n",
    "    print(hours)\n",
    "elif seconds<3600and seconds>=60:\n",
    "    mints=seconds/60\n",
    "    print(\"mint are : \\n\")\n",
    "    print(mints)"
   ]
  },
  {
   "cell_type": "markdown",
   "id": "4169be80",
   "metadata": {},
   "source": [
    "Q#8:-This is a modification of the math tutor problem in Chapter 3. Write a program that can be used as a math tutor for a young\n",
    "student. The program should display two random numbers between 10 and 50 that are to be added, such as:\n",
    "24\n",
    "+12\n",
    "———\n",
    "The program should then wait for the student to enter the answer. If the answer is correct,a message of congratulations should\n",
    "be printed. If the answer is incorrect, a message should be printed showing the correct answer "
   ]
  },
  {
   "cell_type": "code",
   "execution_count": 9,
   "id": "a0ff80f7",
   "metadata": {},
   "outputs": [
    {
     "name": "stdout",
     "output_type": "stream",
     "text": [
      "  27\n",
      "+ 28\n",
      "____\n",
      "45\n",
      "Wrong answer \n",
      "\n"
     ]
    }
   ],
   "source": [
    "import random\n",
    "n1=random.randint(10,50)\n",
    "n2=random.randint(10,50)\n",
    "sum=n1+n2\n",
    "print(\" \",n1)\n",
    "print(\"+\",n2)\n",
    "print(\"____\")\n",
    "sum1=int(input())\n",
    "if sum==sum1:\n",
    "    print(\"Congratulation correct answer \\n\")\n",
    "else:\n",
    "    print(\"Wrong answer \\n\")"
   ]
  },
  {
   "cell_type": "markdown",
   "id": "0a14f5b4",
   "metadata": {},
   "source": [
    "Q#9:- A software company sells a package that retails for $99. Quantity discounts are given according to the following table. Write a\n",
    "Quantity Discount\n",
    "10 – 19 20%\n",
    "20 – 49 30%\n",
    "50 – 99 40%\n",
    "100 or more 50%\n",
    "program that asks for the number of units purchased and computes the total cost of the purchase. Input Validation: Make sure\n",
    "the number of units is greater than 0.\n",
    "\n"
   ]
  },
  {
   "cell_type": "code",
   "execution_count": 10,
   "id": "40af3304",
   "metadata": {},
   "outputs": [
    {
     "name": "stdout",
     "output_type": "stream",
     "text": [
      "enter no of units purchased: 50\n",
      "your total cost is:  2970.0\n"
     ]
    }
   ],
   "source": [
    "units=int(input(\"enter no of units purchased: \"))\n",
    "while units==0:\n",
    "    print(\"enter valid input\")\n",
    "    units=int(input(\"enter no of units purchased: \"))\n",
    "if units>=10 and units<=19:\n",
    "    price=units*99\n",
    "    price=price/100\n",
    "    price=price*80\n",
    "    print(\"your total cost is: \",price)\n",
    "elif     units>=20 and units<=49:\n",
    "    price=units*99\n",
    "    price=price/100\n",
    "    price=price*70\n",
    "    print(\"your total cost is: \",price)\n",
    "elif     units>=50 and units<=99:\n",
    "    price=units*99\n",
    "    price=price/100\n",
    "    price=price*60\n",
    "    print(\"your total cost is: \",price)\n",
    "elif     units>=100:\n",
    "    price=units*99\n",
    "    price=price/100\n",
    "    price=price*50\n",
    "    print(\"your total cost is: \",price)\n",
    "   "
   ]
  },
  {
   "cell_type": "code",
   "execution_count": null,
   "id": "e62479ec",
   "metadata": {},
   "outputs": [],
   "source": []
  }
 ],
 "metadata": {
  "kernelspec": {
   "display_name": "Python 3 (ipykernel)",
   "language": "python",
   "name": "python3"
  },
  "language_info": {
   "codemirror_mode": {
    "name": "ipython",
    "version": 3
   },
   "file_extension": ".py",
   "mimetype": "text/x-python",
   "name": "python",
   "nbconvert_exporter": "python",
   "pygments_lexer": "ipython3",
   "version": "3.9.7"
  }
 },
 "nbformat": 4,
 "nbformat_minor": 5
}
