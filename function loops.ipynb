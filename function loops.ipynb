{
 "cells": [
  {
   "cell_type": "markdown",
   "id": "72fdefdd",
   "metadata": {},
   "source": [
    "# Write a Python function that checks whether a passed string is palindrome or not."
   ]
  },
  {
   "cell_type": "code",
   "execution_count": 7,
   "id": "e88a49e6",
   "metadata": {},
   "outputs": [
    {
     "name": "stdout",
     "output_type": "stream",
     "text": [
      "Enter string :\n",
      "madam\n",
      "madam  this string is plindrome.\n",
      "\n"
     ]
    }
   ],
   "source": [
    "string1=input(\"Enter string :\\n\")\n",
    "def isPalindrome(string):\n",
    "    left_pos = 0\n",
    "    right_pos = len(string) - 1\n",
    "\n",
    "    while right_pos >= left_pos:\n",
    "        if not string[left_pos] == string[right_pos]:\n",
    "            return False\n",
    "        left_pos += 1\n",
    "        right_pos -= 1\n",
    "    return True\n",
    "if isPalindrome(string1):\n",
    "    print(string1,\" this string is plindrome.\\n\")\n",
    "else:\n",
    "    print(string1,\" this string is not plindrome.\\n\")\n"
   ]
  },
  {
   "cell_type": "markdown",
   "id": "49a5319e",
   "metadata": {},
   "source": [
    "# Write a Python program to construct the following pattern, using a nested for loop.\n",
    "\n",
    " * \n",
    " * * \n",
    " * * * \n",
    " * * * * \n",
    " * * * * * \n",
    " * * * * \n",
    " * * * \n",
    " * * \n",
    " *"
   ]
  },
  {
   "cell_type": "code",
   "execution_count": 9,
   "id": "e96b8848",
   "metadata": {},
   "outputs": [
    {
     "name": "stdout",
     "output_type": "stream",
     "text": [
      "\n",
      "* \n",
      "* * \n",
      "* * * \n",
      "* * * * \n",
      "* * * * * \n",
      "* * * * * * \n",
      "* * * * * * * \n",
      "* * * * * * * * \n",
      "* * * * * * * \n",
      "* * * * * * \n",
      "* * * * * \n",
      "* * * * \n",
      "* * * \n",
      "* * \n",
      "* \n"
     ]
    }
   ],
   "source": [
    "n=8;\n",
    "for i in range(n):\n",
    "    for j in range(i):\n",
    "        print ('* ', end=\"\")\n",
    "    print('')\n",
    "\n",
    "for k in range(n,0,-1):\n",
    "    for l in range(k):\n",
    "        print('* ', end=\"\")\n",
    "    print('')\n",
    "\t"
   ]
  },
  {
   "cell_type": "markdown",
   "id": "d5da04ef",
   "metadata": {},
   "source": [
    "# Write a Python program that prints all the numbers from 0 to 50 except multiple of 3\n",
    "\n",
    "Note : Use 'continue' statement."
   ]
  },
  {
   "cell_type": "code",
   "execution_count": 10,
   "id": "dec7636f",
   "metadata": {},
   "outputs": [
    {
     "name": "stdout",
     "output_type": "stream",
     "text": [
      "1 2 4 5 7 8 10 11 13 14 16 17 19 20 22 23 25 26 28 29 31 32 34 35 37 38 40 41 43 44 46 47 49 \n",
      "\n"
     ]
    }
   ],
   "source": [
    "for x in range(50):\n",
    "    if (x%3==0):\n",
    "        continue\n",
    "    print(x,end=' ')\n",
    "print(\"\\n\")"
   ]
  },
  {
   "cell_type": "code",
   "execution_count": null,
   "id": "79a2bad3",
   "metadata": {},
   "outputs": [],
   "source": []
  }
 ],
 "metadata": {
  "kernelspec": {
   "display_name": "Python 3 (ipykernel)",
   "language": "python",
   "name": "python3"
  },
  "language_info": {
   "codemirror_mode": {
    "name": "ipython",
    "version": 3
   },
   "file_extension": ".py",
   "mimetype": "text/x-python",
   "name": "python",
   "nbconvert_exporter": "python",
   "pygments_lexer": "ipython3",
   "version": "3.9.7"
  }
 },
 "nbformat": 4,
 "nbformat_minor": 5
}
